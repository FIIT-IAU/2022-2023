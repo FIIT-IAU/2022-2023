{
 "cells": [
  {
   "cell_type": "markdown",
   "metadata": {
    "colab_type": "text",
    "id": "PE4ExuwJjYZl"
   },
   "source": [
    "# Introduction to Python: DÚ riešenie"
   ]
  },
  {
   "cell_type": "code",
   "execution_count": null,
   "metadata": {
    "colab": {},
    "colab_type": "code",
    "id": "m7dnZNjx26I_"
   },
   "outputs": [],
   "source": [
    "# -*- coding: utf-8 -*-\n",
    "#\n",
    "# Licensed under the Apache License, Version 2.0 (the \"License\");\n",
    "# you may not use this file except in compliance with the License.\n",
    "# You may obtain a copy of the License at\n",
    "#\n",
    "#    http://www.apache.org/licenses/LICENSE-2.0\n",
    "#\n",
    "# Unless required by applicable law or agreed to in writing, software\n",
    "# distributed under the License is distributed on an \"AS IS\" BASIS,\n",
    "# WITHOUT WARRANTIES OR CONDITIONS OF ANY KIND, either express or\n",
    "# implied.\n",
    "# See the License for the specific language governing permissions and\n",
    "# limitations under the License.\n",
    "#"
   ]
  },
  {
   "cell_type": "markdown",
   "metadata": {
    "colab_type": "text",
    "id": "wtQeTdrV4kO_"
   },
   "source": [
    "Oficiálny python tutoriál: [https://docs.python.org/3.8/tutorial/index.html](https://docs.python.org/3.8/tutorial/index.html) \n",
    "\n",
    "URL [https://github.com/jerry-git/learn-python3](https://github.com/jerry-git/learn-python3)"
   ]
  },
  {
   "cell_type": "markdown",
   "metadata": {
    "colab_type": "text",
    "id": "NNi-uBwHfdk0"
   },
   "source": [
    "## Úloha 1"
   ]
  },
  {
   "cell_type": "markdown",
   "metadata": {
    "colab_type": "text",
    "id": "X3eHvejdfgWj"
   },
   "source": [
    "Máte zadané pole stringov."
   ]
  },
  {
   "cell_type": "code",
   "execution_count": null,
   "metadata": {
    "colab": {},
    "colab_type": "code",
    "id": "1qj5175CfnTd"
   },
   "outputs": [],
   "source": [
    "pole_na_rozdelenie = [\"Fiit\", \"fiit\", \"megadlhystring!!!\", \"autobiografia\", \"Alica\", \"python\", \"pip\", \"env\", \"jupyter\", \"IAU\"]"
   ]
  },
  {
   "cell_type": "markdown",
   "metadata": {
    "colab_type": "text",
    "id": "RaGmXpqghnQW"
   },
   "source": [
    "Napíšte funkciu, ktorá pre zadané pole stringov vráti nové pole obsahujúce len stringy na prvočíselných indexoch. Potom túto funkciu zavolajte s vyššie deklarovaným polom ako parameter."
   ]
  },
  {
   "cell_type": "code",
   "execution_count": null,
   "metadata": {
    "colab": {},
    "colab_type": "code",
    "id": "W8ed3W40h529"
   },
   "outputs": [],
   "source": [
    "# Váš kód (2021 Bublavy)\n",
    "def is_prime(number: int):\n",
    "    if number <= 1:\n",
    "        return False\n",
    "    \n",
    "    for i in range(2, number - 1, 1):\n",
    "        if number % i == 0:\n",
    "            return False\n",
    "    \n",
    "    return True\n",
    "\n",
    "for index in range(len(pole_na_rozdelenie)):\n",
    "    if is_prime(index):\n",
    "        print(index, pole_na_rozdelenie[index])"
   ]
  },
  {
   "cell_type": "markdown",
   "metadata": {
    "colab_type": "text",
    "id": "OsdZWqFsfvgk"
   },
   "source": [
    "Napíšte program, ktorý vyššie deklarované pole rozdelí do 3 nových polí, pričom v jednom poli budú stringy dĺžky menej ako 5. V druhom poli stringy dĺžky medzi 5 a 10 (vrátane) a stringy začínajúce na písmeno \"a\" alebo ľubovoľné veľké písmeno pričom je string **ľubovoľnej** dĺžky. V treťom poli všetky ostatné stringy."
   ]
  },
  {
   "cell_type": "code",
   "execution_count": null,
   "metadata": {
    "colab": {},
    "colab_type": "code",
    "id": "19OHF7shiDI9"
   },
   "outputs": [],
   "source": [
    "# Váš kód (2021 Adamcova)\n",
    "pole_na_rozdelenie = [\"Fiit\", \"fiit\", \"megadlhystring!!!\", \"autobiografia\", \"Alica\", \"python\", \"pip\", \"env\", \"jupyter\", \"IAU\"]\n",
    "first = []\n",
    "second = []\n",
    "third = []\n",
    "for item in pole_na_rozdelenie:\n",
    "    if len(item) < 5:\n",
    "        first.append(item)\n",
    "    if ((len(item) >= 5 and len(item) < 11) and item.startswith('a')) or item[0].isupper():\n",
    "        second.append(item)\n",
    "    else:\n",
    "        third.append(item)\n",
    "print(first)\n",
    "print(second)\n",
    "print(third)"
   ]
  },
  {
   "cell_type": "markdown",
   "metadata": {
    "colab_type": "text",
    "id": "-sZ6ISJMp1bR"
   },
   "source": [
    "## Úloha 2"
   ]
  },
  {
   "cell_type": "markdown",
   "metadata": {
    "colab_type": "text",
    "id": "MzlqAVbwp4qL"
   },
   "source": [
    "Máme zadané pole čisiel typu Interger (int)."
   ]
  },
  {
   "cell_type": "code",
   "execution_count": null,
   "metadata": {
    "colab": {},
    "colab_type": "code",
    "id": "9dEavPgJp7b1"
   },
   "outputs": [],
   "source": [
    "pole = [1, 4, 5, 1, 7, 5, 1, 5, 4, 2, 3, 4]\n",
    "#pole = [1,2,3,4,5,5,6,6,4,4,5,5,12,12,1,1,1,1,1,2,1]\n",
    "#pole = [1,1,2,20]"
   ]
  },
  {
   "cell_type": "markdown",
   "metadata": {
    "colab_type": "text",
    "id": "Ie99LXSfqacF"
   },
   "source": [
    "Napíšte funkciu, ktorá nám povie pre pole intov, či sa dá toto pole rozdeliť do dvoch polí s rovnakým súčtom. Potom túto funckiu zavolajte na vyššie deklarované pole. "
   ]
  },
  {
   "cell_type": "code",
   "execution_count": null,
   "metadata": {},
   "outputs": [],
   "source": [
    "# Váš kód: (2021 Dlhý - suhlas na zverejnenie)\n",
    "def findEqualSum(arr):\n",
    "    total_sum = sum(arr)\n",
    "    sorted_arr = sorted(arr, reverse=True)\n",
    "    size = len(sorted_arr)\n",
    "    sum1 = 0\n",
    "    sum2 = 0\n",
    "    for index,item in enumerate(sorted_arr):\n",
    "        if (sum1 > sum2):\n",
    "            sum2+=item\n",
    "        else:\n",
    "            sum1+=item\n",
    "    return sum1 == sum2\n",
    "        \n",
    "findEqualSum(pole)"
   ]
  },
  {
   "cell_type": "markdown",
   "metadata": {},
   "source": [
    "Vypíšte takéto dve polia (ľubovoľné, ktoré sĺňajú podmienku rovnakého súčtu)."
   ]
  },
  {
   "cell_type": "code",
   "execution_count": null,
   "metadata": {},
   "outputs": [],
   "source": [
    "# Váš kód: (2021 Dlhý - suhlas na zverejnenie)\n",
    "def findEqualSumArray(arr):\n",
    "    total_sum = sum(arr)\n",
    "    sorted_arr = sorted(arr, reverse=True)\n",
    "    size = len(sorted_arr)\n",
    "    sum1 = 0; sum1arr = []\n",
    "    sum2 = 0; sum2arr = []\n",
    "    for index,item in enumerate(sorted_arr):\n",
    "        if (sum1 > sum2):\n",
    "            sum2+=item; sum2arr.append(item)\n",
    "        else:\n",
    "            sum1+=item; sum1arr.append(item)\n",
    "    if (sum1 == sum2):\n",
    "        print(f\"Array 1: {sum1arr}, sum = {sum1}\")\n",
    "        print(f\"Array 2: {sum2arr}, sum = {sum2}\")\n",
    "\n",
    "findEqualSumArray(pole)"
   ]
  },
  {
   "cell_type": "code",
   "execution_count": null,
   "metadata": {},
   "outputs": [],
   "source": [
    "# Váš kód: (2021 Hradský - suhlas na zverejnenie)\n",
    "def rovnaky_sucet(zoz):\n",
    "    sum_1 = 0\n",
    "    sum_2 = 0\n",
    "    zoz_1 = []\n",
    "    zoz_2 = []\n",
    "    zoz.sort()\n",
    "    zoz.reverse()\n",
    "    for i in zoz:\n",
    "        if sum_1 <= sum_2:\n",
    "            sum_1 += i\n",
    "            zoz_1.append(i)\n",
    "        else:\n",
    "            sum_2 += i\n",
    "            zoz_2.append(i)\n",
    "    if sum_1 == sum_2: \n",
    "        return (zoz_1, sum(zoz_1), zoz_2, sum(zoz_2)) \n",
    "    else: \n",
    "        return False\n",
    "\n",
    "rovnaky_sucet(pole)"
   ]
  },
  {
   "cell_type": "code",
   "execution_count": null,
   "metadata": {
    "colab": {},
    "colab_type": "code",
    "id": "OdRvJkGsqrIW"
   },
   "outputs": [],
   "source": [
    "# Váš kód: (2021 - suhlas na zverejnenie bez mena)\n",
    "def najdi_polia(pole):\n",
    "    pole.sort()\n",
    "    sucet = sum(pole)\n",
    "    if sucet % 2 :\n",
    "        print(\"Neda sa rozdelit!!\")\n",
    "        return 0\n",
    "    polovica = sucet / 2\n",
    "    docasny_sucet = 0\n",
    "\n",
    "    pole1 = []\n",
    "    while (docasny_sucet < polovica):\n",
    "        if pole[0] > polovica:\n",
    "            print(\"Neda sa rozdelit!!\")\n",
    "            return 0\n",
    "        pole1.append(pole[0])\n",
    "        docasny_sucet = sum(pole1)\n",
    "        pole.pop(0)\n",
    "\n",
    "    i = 0\n",
    "    if sum(pole1) != polovica:\n",
    "        while pole1[i] != sum(pole1) - polovica:\n",
    "            i += 1\n",
    "        pole.append(pole1[i])\n",
    "        pole1.pop(i)\n",
    "\n",
    "    print(pole1, sum(pole1))\n",
    "\n",
    "najdi_polia(pole)\n",
    "print(pole, sum(pole))"
   ]
  },
  {
   "cell_type": "code",
   "execution_count": null,
   "metadata": {},
   "outputs": [],
   "source": [
    "# Váš kód: (2022 D. Repkovský - všetky kombinácie)\n",
    "from itertools import combinations\n",
    "import numpy\n",
    "\n",
    "def get_partitions(indexes:set[int],arr:list):\n",
    "    res = []\n",
    "    complement = []\n",
    "    arr_len = len(arr)\n",
    "\n",
    "    for i in range(arr_len):\n",
    "        if i in indexes:\n",
    "            res.append(arr[i])\n",
    "        else:\n",
    "            complement.append(arr[i])\n",
    "    return res, complement\n",
    "\n",
    "\n",
    "def sub_lists (arr:list):\n",
    "    result = []\n",
    "    arr_len = len(arr)\n",
    "    half_sum = numpy.sum(arr) / 2\n",
    "\n",
    "    indices_arr = list(range(arr_len))\n",
    "    for i in range(arr_len+1):\n",
    "        for j in combinations(indices_arr, i):\n",
    "            group, complement = get_partitions(set(j),arr)\n",
    "            if numpy.sum(group) == half_sum:\n",
    "                sg = sorted(group)\n",
    "                sc = sorted(complement)\n",
    "                if (sg,sc) not in result:\n",
    "                    result.append((sg,sc))\n",
    "    return result\n",
    "\n",
    "sub_lists(pole)"
   ]
  },
  {
   "cell_type": "code",
   "execution_count": null,
   "metadata": {},
   "outputs": [],
   "source": []
  }
 ],
 "metadata": {
  "colab": {
   "collapsed_sections": [],
   "name": "IAU_uvod_do_pythonu.ipynb",
   "provenance": []
  },
  "kernelspec": {
   "display_name": "Python 3 (ipykernel)",
   "language": "python",
   "name": "python3"
  },
  "language_info": {
   "codemirror_mode": {
    "name": "ipython",
    "version": 3
   },
   "file_extension": ".py",
   "mimetype": "text/x-python",
   "name": "python",
   "nbconvert_exporter": "python",
   "pygments_lexer": "ipython3",
   "version": "3.9.9"
  }
 },
 "nbformat": 4,
 "nbformat_minor": 1
}
