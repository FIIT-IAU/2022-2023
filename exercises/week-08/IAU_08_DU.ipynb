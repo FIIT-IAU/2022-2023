{
 "cells": [
  {
   "cell_type": "code",
   "execution_count": 30,
   "metadata": {},
   "outputs": [],
   "source": [
    "# -*- coding: utf-8 -*-\n",
    "#\n",
    "# Licensed under the Apache License, Version 2.0 (the \"License\");\n",
    "# you may not use this file except in compliance with the License.\n",
    "# You may obtain a copy of the License at\n",
    "#\n",
    "#    http://www.apache.org/licenses/LICENSE-2.0\n",
    "#\n",
    "# Unless required by applicable law or agreed to in writing, software\n",
    "# distributed under the License is distributed on an \"AS IS\" BASIS,\n",
    "# WITHOUT WARRANTIES OR CONDITIONS OF ANY KIND, either express or\n",
    "# implied.\n",
    "# See the License for the specific language governing permissions and\n",
    "# limitations under the License.\n",
    "#"
   ]
  },
  {
   "cell_type": "markdown",
   "metadata": {},
   "source": [
    "## 3.4 Levenshtein distance\n",
    "Levenshtein distance between two strings $a,b$ is \n",
    "\n",
    "$\n",
    "    \\label{eq:lev}\n",
    "    lev_{a,b}(i,j)=\n",
    "      \\begin{cases}\n",
    "      \\max(i,j) & \\text{if $\\min(i,j)=0$,} \\\\[1ex]\n",
    "      \\begin{aligned}[b]\n",
    "      \\min\\bigl(lev_{a,b}&(i-1,j)+1, \\\\\n",
    "                lev_{a,b}&(i,j-1)+1, \\\\\n",
    "                lev_{a,b}&(i-1,j-1)+1_{(a_i\\ne b_j)}\n",
    "          \\bigr)\n",
    "      \\end{aligned} & \\text{otherwise.}\n",
    "    \\end{cases}\n",
    "$\n",
    "\n",
    "where\n",
    "    $i$ is the terminal character position of $a$,\n",
    "    $j$ is the terminal character position of $b$, \n",
    "    and positions are 1-indexed.\n",
    "    \n",
    "<!-- <img src=\"img/levenshtein.png\" /> //-->\n",
    "\n",
    "URL https://stackabuse.com/levenshtein-distance-and-text-similarity-in-python/\n",
    "\n",
    "URL https://medium.com/@ethannam/understanding-the-levenshtein-distance-equation-for-beginners-c4285a5604f0"
   ]
  },
  {
   "cell_type": "code",
   "execution_count": null,
   "metadata": {},
   "outputs": [],
   "source": [
    "# Your code:"
   ]
  }
 ],
 "metadata": {
  "kernelspec": {
   "display_name": "Python 3 (ipykernel)",
   "language": "python",
   "name": "python3"
  },
  "language_info": {
   "codemirror_mode": {
    "name": "ipython",
    "version": 3
   },
   "file_extension": ".py",
   "mimetype": "text/x-python",
   "name": "python",
   "nbconvert_exporter": "python",
   "pygments_lexer": "ipython3",
   "version": "3.9.9"
  }
 },
 "nbformat": 4,
 "nbformat_minor": 4
}
