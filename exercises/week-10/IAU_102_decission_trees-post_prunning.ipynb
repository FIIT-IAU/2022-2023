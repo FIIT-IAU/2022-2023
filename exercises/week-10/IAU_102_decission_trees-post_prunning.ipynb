{
 "cells": [
  {
   "cell_type": "code",
   "execution_count": 1,
   "metadata": {},
   "outputs": [],
   "source": [
    "# -*- coding: utf-8 -*-\n",
    "#\n",
    "# Licensed under the Apache License, Version 2.0 (the \"License\");\n",
    "# you may not use this file except in compliance with the License.\n",
    "# You may obtain a copy of the License at\n",
    "#\n",
    "#    http://www.apache.org/licenses/LICENSE-2.0\n",
    "#\n",
    "# Unless required by applicable law or agreed to in writing, software\n",
    "# distributed under the License is distributed on an \"AS IS\" BASIS,\n",
    "# WITHOUT WARRANTIES OR CONDITIONS OF ANY KIND, either express or\n",
    "# implied.\n",
    "# See the License for the specific language governing permissions and\n",
    "# limitations under the License.\n",
    "#"
   ]
  },
  {
   "cell_type": "markdown",
   "metadata": {
    "slideshow": {
     "slide_type": "slide"
    }
   },
   "source": [
    "# Decission trees\n",
    "\n",
    "URLs\n",
    "- https://scikit-learn.org/0.22/auto_examples/tree/plot_cost_complexity_pruning.html \n",
    "- [Post Pruning Decision Trees](https://medium.com/swlh/post-pruning-decision-trees-using-python-b5d4bcda8e23)"
   ]
  },
  {
   "cell_type": "code",
   "execution_count": 2,
   "metadata": {},
   "outputs": [],
   "source": [
    "import numpy as np\n",
    "import pandas as pd\n",
    "import matplotlib.pyplot as plt\n",
    "from sklearn.model_selection import train_test_split\n",
    "from sklearn.tree import DecisionTreeClassifier"
   ]
  },
  {
   "cell_type": "markdown",
   "metadata": {},
   "source": [
    "## Load titanic dataset (train dataset only)"
   ]
  },
  {
   "cell_type": "code",
   "execution_count": 3,
   "metadata": {},
   "outputs": [],
   "source": [
    "data = pd.read_csv('titanic/train.csv')\n",
    "X, y = data[['Pclass',  \n",
    "            'Sex', \n",
    "            'Age',\n",
    "            'SibSp',\n",
    "            'Parch',  \n",
    "            'Fare',   \n",
    "            'Cabin',\n",
    "            'Embarked']], data['Survived']\n",
    "X,y = X.fillna(0),y.fillna(0)\n",
    "X = pd.get_dummies(X)\n",
    "X_train, X_test, y_train, y_test = train_test_split(X, y, test_size=0.3, random_state=1) "
   ]
  },
  {
   "cell_type": "markdown",
   "metadata": {},
   "source": [
    "### Overfitting example"
   ]
  },
  {
   "cell_type": "code",
   "execution_count": 4,
   "metadata": {},
   "outputs": [
    {
     "name": "stdout",
     "output_type": "stream",
     "text": [
      "Training accuracy:  0.9903691813804173\n",
      "Test Accuracy:  0.7761194029850746\n"
     ]
    }
   ],
   "source": [
    "model = DecisionTreeClassifier(random_state=1).fit(X_train, y_train)\n",
    "y_predicted = model.predict(X_test)\n",
    "\n",
    "print('Training accuracy: ',model.score(X_train,y_train))\n",
    "print('Test Accuracy: ',model.score(X_test, y_test))"
   ]
  },
  {
   "cell_type": "markdown",
   "metadata": {},
   "source": [
    "## Post-prunning\n",
    "- The DecisionTreeClassifier class in sklearn provides **ccp_alpha** as a parameter for post pruning. \n",
    "- The parameter ccp_alpha provides a threshold for effective alphas, i.e. the process of pruning continues until the minimal effective alpha of the pruned tree is not greater than ccp_alpha. \n",
    "- The DecisionTreeClassifier class also provides a method **cost_complexity_pruning_path** which implements **the pruning process** and returns the effective alphas (and the corresponding impurities of there pruned trees)"
   ]
  },
  {
   "cell_type": "code",
   "execution_count": 5,
   "metadata": {},
   "outputs": [
    {
     "name": "stdout",
     "output_type": "stream",
     "text": [
      "{'ccp_alphas': array([0.00000000e+00, 0.00000000e+00, 1.42678794e-04, 1.60513644e-04,\n",
      "       2.20706260e-04, 2.92491528e-04, 8.02568218e-04, 8.56072766e-04,\n",
      "       9.87776269e-04, 9.87776269e-04, 1.07009096e-03, 1.07009096e-03,\n",
      "       1.07796454e-03, 1.25770431e-03, 1.33761370e-03, 1.33761370e-03,\n",
      "       1.36753400e-03, 1.37583123e-03, 1.37583123e-03, 1.45228841e-03,\n",
      "       1.47137507e-03, 1.52870137e-03, 1.60513644e-03, 1.68961730e-03,\n",
      "       1.84732774e-03, 1.91087671e-03, 1.96611572e-03, 2.06374685e-03,\n",
      "       2.14018192e-03, 2.16271015e-03, 2.24719101e-03, 2.40770465e-03,\n",
      "       2.46404657e-03, 2.49687890e-03, 2.66260382e-03, 2.88924559e-03,\n",
      "       2.93970807e-03, 3.04975923e-03, 3.42180248e-03, 3.93188777e-03,\n",
      "       6.01333133e-03, 6.19679542e-03, 8.64451052e-03, 1.22070626e-02,\n",
      "       1.27995980e-02, 3.64216439e-02, 1.48693178e-01]), 'impurities': array([0.01139647, 0.01139647, 0.01168183, 0.01184234, 0.01228375,\n",
      "       0.01257624, 0.01337881, 0.01594703, 0.01891036, 0.02483702,\n",
      "       0.02911738, 0.03125756, 0.03772535, 0.04652928, 0.04920451,\n",
      "       0.05187973, 0.0546148 , 0.05736647, 0.06011813, 0.09787763,\n",
      "       0.10082038, 0.10387778, 0.10548292, 0.10717253, 0.11086719,\n",
      "       0.11277807, 0.12654088, 0.12860462, 0.1307448 , 0.13290751,\n",
      "       0.13964909, 0.14205679, 0.17162535, 0.17661911, 0.18194432,\n",
      "       0.18483356, 0.19071298, 0.1968125 , 0.2070779 , 0.21494168,\n",
      "       0.22095501, 0.22715181, 0.25308534, 0.2652924 , 0.278092  ,\n",
      "       0.31451364, 0.46320682])}\n"
     ]
    },
    {
     "data": {
      "text/plain": [
       "Text(0.5, 1.0, 'Total Impurity vs effective alpha for training set')"
      ]
     },
     "execution_count": 5,
     "metadata": {},
     "output_type": "execute_result"
    },
    {
     "data": {
      "image/png": "[encoded data removed]",
      "text/plain": [
       "<Figure size 432x288 with 1 Axes>"
      ]
     },
     "metadata": {
      "needs_background": "light"
     },
     "output_type": "display_data"
    }
   ],
   "source": [
    "path=DecisionTreeClassifier(random_state=1).cost_complexity_pruning_path(X_train, y_train)\n",
    "ccp_alphas, impurities = path.ccp_alphas, path.impurities\n",
    "print(path)\n",
    "\n",
    "# plotting\n",
    "fig, ax = plt.subplots()\n",
    "ax.plot(ccp_alphas[:-1], \n",
    "        impurities[:-1], \n",
    "        marker='o', \n",
    "        drawstyle=\"steps-post\")\n",
    "ax.set_xlabel(\"effective alpha\")\n",
    "ax.set_ylabel(\"total impurity of leaves\")\n",
    "ax.set_title(\"Total Impurity vs effective alpha for training set\")"
   ]
  },
  {
   "cell_type": "code",
   "execution_count": 6,
   "metadata": {},
   "outputs": [
    {
     "name": "stdout",
     "output_type": "stream",
     "text": [
      "Number of nodes in the last tree is: 1 with ccp_alpha: 0.1486931782834916 and a depth of: 0\n"
     ]
    }
   ],
   "source": [
    "clfs = []\n",
    "for ccp_alpha in ccp_alphas:\n",
    "    clf = DecisionTreeClassifier(random_state=1,ccp_alpha=ccp_alpha)\n",
    "    clf.fit(X_train, y_train)\n",
    "    clfs.append(clf)\n",
    "    \n",
    "print(\"Number of nodes in the last tree is: {} with ccp_alpha: {} and a depth of: {}\".\\\n",
    "      format(clfs[-1].tree_.node_count, ccp_alphas[-1],clfs[-1].tree_.max_depth))"
   ]
  },
  {
   "cell_type": "markdown",
   "metadata": {},
   "source": [
    "#### We remove the last element in **clfs** and **ccp_alphas**, because it is the trivial tree with only one node. Here we show that the number of nodes and tree depth decreases as alpha increases."
   ]
  },
  {
   "cell_type": "code",
   "execution_count": 7,
   "metadata": {},
   "outputs": [
    {
     "data": {
      "image/png": "[encoded data removed]",
      "text/plain": [
       "<Figure size 432x288 with 2 Axes>"
      ]
     },
     "metadata": {
      "needs_background": "light"
     },
     "output_type": "display_data"
    }
   ],
   "source": [
    "clfs = clfs[:-1]\n",
    "ccp_alphas = ccp_alphas[:-1]\n",
    "\n",
    "node_counts = [clf.tree_.node_count for clf in clfs]\n",
    "depth = [clf.tree_.max_depth for clf in clfs]\n",
    "\n",
    "# plotting\n",
    "fig, ax = plt.subplots(2, 1)\n",
    "ax[0].plot(ccp_alphas, \n",
    "           node_counts, \n",
    "           marker='o', \n",
    "           drawstyle=\"steps-post\")\n",
    "ax[0].set_xlabel(\"alpha\")\n",
    "ax[0].set_ylabel(\"number of nodes\")\n",
    "ax[0].set_title(\"Number of nodes vs alpha\")\n",
    "\n",
    "ax[1].plot(ccp_alphas, \n",
    "           depth, \n",
    "           marker='o', \n",
    "           drawstyle=\"steps-post\")\n",
    "ax[1].set_xlabel(\"alpha\")\n",
    "ax[1].set_ylabel(\"depth of tree\")\n",
    "ax[1].set_title(\"Depth vs alpha\")\n",
    "fig.tight_layout()"
   ]
  },
  {
   "cell_type": "markdown",
   "metadata": {},
   "source": [
    "## Accuracy vs alpha for training and testing sets"
   ]
  },
  {
   "cell_type": "code",
   "execution_count": 8,
   "metadata": {},
   "outputs": [
    {
     "data": {
      "image/png": "[encoded data removed]",
      "text/plain": [
       "<Figure size 432x288 with 1 Axes>"
      ]
     },
     "metadata": {
      "needs_background": "light"
     },
     "output_type": "display_data"
    }
   ],
   "source": [
    "train_scores = [clf.score(X_train, y_train) for clf in clfs]\n",
    "test_scores = [clf.score(X_test, y_test) for clf in clfs]\n",
    "\n",
    "# plotting\n",
    "fig, ax = plt.subplots()\n",
    "ax.set_xlabel(\"alpha\")\n",
    "ax.set_ylabel(\"accuracy\")\n",
    "ax.set_title(\"Accuracy vs alpha for training and testing sets\")\n",
    "\n",
    "ax.plot(ccp_alphas, \n",
    "        train_scores, \n",
    "        marker='o', \n",
    "        label=\"train\",\n",
    "        drawstyle=\"steps-post\")\n",
    "\n",
    "ax.plot(ccp_alphas, \n",
    "        test_scores, \n",
    "        marker='o', \n",
    "        label=\"test\",\n",
    "        drawstyle=\"steps-post\")\n",
    "ax.legend()\n",
    "plt.show()"
   ]
  },
  {
   "cell_type": "markdown",
   "metadata": {},
   "source": [
    "## Use the best model"
   ]
  },
  {
   "cell_type": "code",
   "execution_count": 9,
   "metadata": {},
   "outputs": [
    {
     "name": "stdout",
     "output_type": "stream",
     "text": [
      "Training accuracy of best model:  0.9373996789727127\n",
      "Test accuracy of best model:  0.8171641791044776\n"
     ]
    }
   ],
   "source": [
    "index_best_model = np.argmax(test_scores)\n",
    "best_model = clfs[index_best_model]\n",
    "\n",
    "print('Training accuracy of best model: ', best_model.score(X_train, y_train))\n",
    "print('Test accuracy of best model: ', best_model.score(X_test, y_test))"
   ]
  },
  {
   "cell_type": "code",
   "execution_count": null,
   "metadata": {},
   "outputs": [],
   "source": []
  }
 ],
 "metadata": {
  "kernelspec": {
   "display_name": "Python 3",
   "language": "python",
   "name": "python3"
  },
  "language_info": {
   "codemirror_mode": {
    "name": "ipython",
    "version": 3
   },
   "file_extension": ".py",
   "mimetype": "text/x-python",
   "name": "python",
   "nbconvert_exporter": "python",
   "pygments_lexer": "ipython3",
   "version": "3.8.2"
  }
 },
 "nbformat": 4,
 "nbformat_minor": 2
}
