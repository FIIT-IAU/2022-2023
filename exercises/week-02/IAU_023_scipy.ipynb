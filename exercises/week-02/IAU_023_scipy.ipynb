{
 "cells": [
  {
   "cell_type": "code",
   "execution_count": null,
   "metadata": {},
   "outputs": [],
   "source": [
    "# -*- coding: utf-8 -*-\n",
    "#\n",
    "# Licensed under the Apache License, Version 2.0 (the \"License\");\n",
    "# you may not use this file except in compliance with the License.\n",
    "# You may obtain a copy of the License at\n",
    "#\n",
    "#    http://www.apache.org/licenses/LICENSE-2.0\n",
    "#\n",
    "# Unless required by applicable law or agreed to in writing, software\n",
    "# distributed under the License is distributed on an \"AS IS\" BASIS,\n",
    "# WITHOUT WARRANTIES OR CONDITIONS OF ANY KIND, either express or\n",
    "# implied.\n",
    "# See the License for the specific language governing permissions and\n",
    "# limitations under the License.\n",
    "#"
   ]
  },
  {
   "cell_type": "markdown",
   "metadata": {},
   "source": [
    "# SciPy - scientific python - very very quick guide\n",
    "- SciPy (pronounced as Sigh Pi) is a scientific python library to perform mathematical, scientific and engineering computations.\n",
    "- The SciPy library depends on NumPy, which provides convenient and fast N-dimensional array manipulation. "
   ]
  },
  {
   "cell_type": "markdown",
   "metadata": {},
   "source": [
    "## NumPy Vector/Array"
   ]
  },
  {
   "cell_type": "code",
   "execution_count": 1,
   "metadata": {},
   "outputs": [
    {
     "data": {
      "text/plain": [
       "array([1, 2, 3, 4])"
      ]
     },
     "execution_count": 1,
     "metadata": {},
     "output_type": "execute_result"
    }
   ],
   "source": [
    "import matplotlib.pyplot as plt\n",
    "import numpy as np\n",
    "list = [1, 2, 3, 4]\n",
    "a = np.array(list)\n",
    "a"
   ]
  },
  {
   "cell_type": "code",
   "execution_count": 2,
   "metadata": {},
   "outputs": [
    {
     "data": {
      "text/plain": [
       "array([[0., 0., 0.],\n",
       "       [0., 0., 0.]])"
      ]
     },
     "execution_count": 2,
     "metadata": {},
     "output_type": "execute_result"
    }
   ],
   "source": [
    "np.zeros((2, 3))"
   ]
  },
  {
   "cell_type": "code",
   "execution_count": 3,
   "metadata": {},
   "outputs": [
    {
     "data": {
      "text/plain": [
       "array([[1., 1., 1.],\n",
       "       [1., 1., 1.]])"
      ]
     },
     "execution_count": 3,
     "metadata": {},
     "output_type": "execute_result"
    }
   ],
   "source": [
    "np.ones((2, 3))"
   ]
  },
  {
   "cell_type": "code",
   "execution_count": 4,
   "metadata": {},
   "outputs": [
    {
     "data": {
      "text/plain": [
       "array([0, 1, 2, 3, 4, 5, 6])"
      ]
     },
     "execution_count": 4,
     "metadata": {},
     "output_type": "execute_result"
    }
   ],
   "source": [
    "np.arange(7)"
   ]
  },
  {
   "cell_type": "code",
   "execution_count": 5,
   "metadata": {},
   "outputs": [
    {
     "data": {
      "text/plain": [
       "array([1. , 1.6, 2.2, 2.8, 3.4, 4. ])"
      ]
     },
     "execution_count": 5,
     "metadata": {},
     "output_type": "execute_result"
    }
   ],
   "source": [
    "np.linspace(1., 4., 6)"
   ]
  },
  {
   "cell_type": "markdown",
   "metadata": {},
   "source": [
    "## Matrix"
   ]
  },
  {
   "cell_type": "code",
   "execution_count": 13,
   "metadata": {},
   "outputs": [
    {
     "data": {
      "text/plain": [
       "matrix([[1, 3],\n",
       "        [2, 4]])"
      ]
     },
     "execution_count": 13,
     "metadata": {},
     "output_type": "execute_result"
    }
   ],
   "source": [
    "mat = np.matrix('1 2; 3 4')\n",
    "mat.H"
   ]
  },
  {
   "cell_type": "markdown",
   "metadata": {},
   "source": [
    "**Transpose**"
   ]
  },
  {
   "cell_type": "code",
   "execution_count": 14,
   "metadata": {},
   "outputs": [
    {
     "data": {
      "text/plain": [
       "matrix([[1, 3],\n",
       "        [2, 4]])"
      ]
     },
     "execution_count": 14,
     "metadata": {},
     "output_type": "execute_result"
    }
   ],
   "source": [
    "mat.T"
   ]
  },
  {
   "cell_type": "markdown",
   "metadata": {},
   "source": [
    "## K-Means"
   ]
  },
  {
   "cell_type": "code",
   "execution_count": 15,
   "metadata": {},
   "outputs": [],
   "source": [
    "from numpy import vstack, array\n",
    "from numpy.random import rand\n",
    "from scipy.cluster.vq import kmeans, vq, whiten"
   ]
  },
  {
   "cell_type": "code",
   "execution_count": 16,
   "metadata": {},
   "outputs": [
    {
     "data": {
      "text/plain": [
       "array([[-1.69222062, -0.32290753],\n",
       "       [-0.47768653,  2.81973975],\n",
       "       [ 0.92746615,  1.77960883],\n",
       "       [-0.79112535, -0.47026689],\n",
       "       [-2.78242542, -3.73136823],\n",
       "       [ 0.7929755 ,  0.73663301],\n",
       "       [-1.5185428 , -2.63736658],\n",
       "       [-3.19094068, -0.31740486],\n",
       "       [-2.09699036, -1.25308606],\n",
       "       [ 0.23309003, -1.2269731 ],\n",
       "       [-2.74631561,  0.25600159],\n",
       "       [-0.22938148, -1.32545657],\n",
       "       [ 0.83690428, -2.9477407 ],\n",
       "       [ 1.05494001,  1.46494514],\n",
       "       [ 0.29825334,  1.98302222],\n",
       "       [ 1.33009774,  0.85022622],\n",
       "       [ 3.57187258,  0.0992081 ],\n",
       "       [-2.63041322, -2.85385394],\n",
       "       [-1.0291244 , -4.58240735],\n",
       "       [ 1.64455466,  1.06293815],\n",
       "       [33.21024255, 10.94131389],\n",
       "       [25.24133027, 10.63222241],\n",
       "       [33.38050503, 10.68033139],\n",
       "       [27.33214026,  8.47367784],\n",
       "       [33.18830561,  9.55324154],\n",
       "       [30.95361682, 11.29734013],\n",
       "       [33.04805326, 10.66818332],\n",
       "       [34.6854842 , 10.24186542],\n",
       "       [35.00214284, 10.99839677],\n",
       "       [28.2194779 , 10.83051239],\n",
       "       [31.79401133, 10.15901066],\n",
       "       [27.24921495,  7.82281449],\n",
       "       [29.39841642,  9.49760991],\n",
       "       [25.24282841, 10.55198767],\n",
       "       [34.02649531, 11.13000475],\n",
       "       [36.34504617, 11.91856618],\n",
       "       [27.39049271,  9.86832967],\n",
       "       [26.49822609, 10.54173341],\n",
       "       [29.62507717, 10.04922099],\n",
       "       [33.80210593, 10.037524  ]])"
      ]
     },
     "execution_count": 16,
     "metadata": {},
     "output_type": "execute_result"
    }
   ],
   "source": [
    "pts = 20\n",
    "a = np.random.multivariate_normal([0, 0], [[4, 1], [1, 4]], size=pts)\n",
    "b = np.random.multivariate_normal([30, 10],\n",
    "                                  [[10, 2], [2, 1]],\n",
    "                                  size=pts)\n",
    "data = np.concatenate((a, b))\n",
    "data"
   ]
  },
  {
   "cell_type": "markdown",
   "metadata": {},
   "source": [
    "Before running k-means, it is beneficial to **rescale** each feature dimension of the observation set with whitening. Each feature is **divided by its standard deviation** across all observations to give it unit variance."
   ]
  },
  {
   "cell_type": "code",
   "execution_count": 18,
   "metadata": {},
   "outputs": [
    {
     "data": {
      "text/plain": [
       "array([[-0.10684877, -0.0573762 ],\n",
       "       [-0.03016168,  0.50102872],\n",
       "       [ 0.05856129,  0.31621185],\n",
       "       [-0.04995257, -0.08355992],\n",
       "       [-0.17568557, -0.66301248],\n",
       "       [ 0.05006939,  0.13088949],\n",
       "       [-0.09588255, -0.46862353],\n",
       "       [-0.2014797 , -0.05639845],\n",
       "       [-0.1324064 , -0.22265605],\n",
       "       [ 0.01471757, -0.21801613],\n",
       "       [-0.17340555,  0.04548794],\n",
       "       [-0.01448341, -0.23551528],\n",
       "       [ 0.05284311, -0.52377271],\n",
       "       [ 0.06661014,  0.26030047],\n",
       "       [ 0.01883206,  0.3523556 ],\n",
       "       [ 0.08398391,  0.15107343],\n",
       "       [ 0.22553218,  0.01762791],\n",
       "       [-0.16608734, -0.50709034],\n",
       "       [-0.06498011, -0.81423035],\n",
       "       [ 0.10383909,  0.18886939],\n",
       "       [ 2.09693325,  1.94412001],\n",
       "       [ 1.59376688,  1.88919873],\n",
       "       [ 2.10768382,  1.89774703],\n",
       "       [ 1.72578305,  1.50565524],\n",
       "       [ 2.09554812,  1.69747877],\n",
       "       [ 1.95444728,  2.00738094],\n",
       "       [ 2.08669243,  1.89558849],\n",
       "       [ 2.19008172,  1.8198377 ],\n",
       "       [ 2.21007591,  1.95426284],\n",
       "       [ 1.78181058,  1.92443211],\n",
       "       [ 2.00751076,  1.80511555],\n",
       "       [ 1.72054705,  1.39000584],\n",
       "       [ 1.85625012,  1.6875938 ],\n",
       "       [ 1.59386147,  1.87494213],\n",
       "       [ 2.14847239,  1.97764776],\n",
       "       [ 2.29486838,  2.11776421],\n",
       "       [ 1.72946749,  1.75346557],\n",
       "       [ 1.67312874,  1.87312009],\n",
       "       [ 1.87056174,  1.78560745],\n",
       "       [ 2.13430419,  1.78352906]])"
      ]
     },
     "execution_count": 18,
     "metadata": {},
     "output_type": "execute_result"
    }
   ],
   "source": [
    "whitened = whiten(data)\n",
    "whitened"
   ]
  },
  {
   "cell_type": "markdown",
   "metadata": {},
   "source": [
    "computing **K-Means** with K=2 (2 clusters)"
   ]
  },
  {
   "cell_type": "code",
   "execution_count": 19,
   "metadata": {},
   "outputs": [
    {
     "data": {
      "text/plain": [
       "array([[-0.02681925, -0.09432033],\n",
       "       [ 1.94358977,  1.82922466]])"
      ]
     },
     "execution_count": 19,
     "metadata": {},
     "output_type": "execute_result"
    }
   ],
   "source": [
    "codebook, distortion = kmeans(whitened, 2)\n",
    "codebook"
   ]
  },
  {
   "cell_type": "code",
   "execution_count": 22,
   "metadata": {},
   "outputs": [
    {
     "data": {
      "text/plain": [
       "<matplotlib.collections.PathCollection at 0x1fd17e923d0>"
      ]
     },
     "execution_count": 22,
     "metadata": {},
     "output_type": "execute_result"
    },
    {
     "data": {
      "image/png": "[encoded data removed]",
      "text/plain": [
       "<Figure size 432x288 with 1 Axes>"
      ]
     },
     "metadata": {
      "needs_background": "light"
     },
     "output_type": "display_data"
    }
   ],
   "source": [
    "plt.scatter(whitened[:, 0], whitened[:, 1])\n",
    "plt.scatter(codebook[:, 0], codebook[:, 1], c='r')"
   ]
  },
  {
   "cell_type": "markdown",
   "metadata": {},
   "source": [
    "# Interpolate"
   ]
  },
  {
   "cell_type": "code",
   "execution_count": 23,
   "metadata": {},
   "outputs": [
    {
     "data": {
      "text/plain": [
       "array([0.        , 0.36363636, 0.72727273, 1.09090909, 1.45454545,\n",
       "       1.81818182, 2.18181818, 2.54545455, 2.90909091, 3.27272727,\n",
       "       3.63636364, 4.        ])"
      ]
     },
     "execution_count": 23,
     "metadata": {},
     "output_type": "execute_result"
    }
   ],
   "source": [
    "from scipy import interpolate\n",
    "x = np.linspace(0, 4, 12)\n",
    "x"
   ]
  },
  {
   "cell_type": "code",
   "execution_count": 24,
   "metadata": {},
   "outputs": [
    {
     "data": {
      "text/plain": [
       "array([-0.65364362, -0.61966189, -0.51077021, -0.31047698, -0.00715476,\n",
       "        0.37976236,  0.76715099,  0.99239518,  0.85886263,  0.27994201,\n",
       "       -0.52586509, -0.99582185])"
      ]
     },
     "execution_count": 24,
     "metadata": {},
     "output_type": "execute_result"
    }
   ],
   "source": [
    "y = np.cos(x**2/3+4)\n",
    "y"
   ]
  },
  {
   "cell_type": "code",
   "execution_count": 27,
   "metadata": {},
   "outputs": [
    {
     "data": {
      "text/plain": [
       "[<matplotlib.lines.Line2D at 0x1fd1807a7f0>]"
      ]
     },
     "execution_count": 27,
     "metadata": {},
     "output_type": "execute_result"
    },
    {
     "data": {
      "image/png": "[encoded data removed]",
      "text/plain": [
       "<Figure size 432x288 with 1 Axes>"
      ]
     },
     "metadata": {
      "needs_background": "light"
     },
     "output_type": "display_data"
    }
   ],
   "source": [
    "plt.plot(x, y, 'o')"
   ]
  },
  {
   "cell_type": "code",
   "execution_count": 28,
   "metadata": {},
   "outputs": [
    {
     "data": {
      "text/plain": [
       "array([0.        , 0.13793103, 0.27586207, 0.4137931 , 0.55172414,\n",
       "       0.68965517, 0.82758621, 0.96551724, 1.10344828, 1.24137931,\n",
       "       1.37931034, 1.51724138, 1.65517241, 1.79310345, 1.93103448,\n",
       "       2.06896552, 2.20689655, 2.34482759, 2.48275862, 2.62068966,\n",
       "       2.75862069, 2.89655172, 3.03448276, 3.17241379, 3.31034483,\n",
       "       3.44827586, 3.5862069 , 3.72413793, 3.86206897, 4.        ])"
      ]
     },
     "execution_count": 28,
     "metadata": {},
     "output_type": "execute_result"
    }
   ],
   "source": [
    "f1 = interpolate.interp1d(x, y, kind = 'linear')\n",
    "f2 = interpolate.interp1d(x, y, kind = 'cubic')\n",
    "xnew = np.linspace(0, 4,30)\n",
    "xnew"
   ]
  },
  {
   "cell_type": "code",
   "execution_count": 29,
   "metadata": {},
   "outputs": [
    {
     "data": {
      "text/plain": [
       "<matplotlib.legend.Legend at 0x1fd1809a850>"
      ]
     },
     "execution_count": 29,
     "metadata": {},
     "output_type": "execute_result"
    },
    {
     "data": {
      "image/png": "[encoded data removed]",
      "text/plain": [
       "<Figure size 432x288 with 1 Axes>"
      ]
     },
     "metadata": {
      "needs_background": "light"
     },
     "output_type": "display_data"
    }
   ],
   "source": [
    "plt.plot(x, y, 'o', xnew, f1(xnew), '-', xnew, f2(xnew), '--')\n",
    "plt.legend(['data', 'linear', 'cubic'], loc = 'best')"
   ]
  },
  {
   "cell_type": "markdown",
   "metadata": {},
   "source": [
    "# Linalg\n",
    "SciPy is built using the optimized ATLAS LAPACK and BLAS libraries. It has very fast **linear algebra** capabilities. All of these linear algebra routines expect an object that can be converted into a **two-dimensional array**. The output of these routines is also a two-dimensional array."
   ]
  },
  {
   "cell_type": "markdown",
   "metadata": {},
   "source": [
    "## Eigenvalues and Eigenvectors\n",
    "An eigenvector does not change direction in a transformation\n",
    "<img src=\"https://www.mathsisfun.com/algebra/images/eigen-transform.svg\" />"
   ]
  },
  {
   "cell_type": "code",
   "execution_count": 30,
   "metadata": {},
   "outputs": [
    {
     "data": {
      "text/plain": [
       "array([[1, 2],\n",
       "       [3, 4]])"
      ]
     },
     "execution_count": 30,
     "metadata": {},
     "output_type": "execute_result"
    }
   ],
   "source": [
    "from scipy import linalg\n",
    "A = np.array([[1, 2],[3, 4]])\n",
    "A"
   ]
  },
  {
   "cell_type": "code",
   "execution_count": 31,
   "metadata": {},
   "outputs": [
    {
     "name": "stdout",
     "output_type": "stream",
     "text": [
      "eigen values= [-0.37228132+0.j  5.37228132+0.j] \n",
      "\n",
      "eigen vector= [[-0.82456484 -0.41597356]\n",
      " [ 0.56576746 -0.90937671]]\n"
     ]
    }
   ],
   "source": [
    "l, v = linalg.eig(A)\n",
    "print('eigen values=', l, '\\n')\n",
    "print('eigen vector=', v)"
   ]
  },
  {
   "cell_type": "markdown",
   "metadata": {},
   "source": [
    "## Singular Value Decomposition (SVD)\n",
    "- Singular Value Decomposition (SVD) is a common dimensionality reduction technique in data science\n",
    "- The scipy.linalg.svd factorizes the matrix `a` into two unitary matrices `U` and `Vh` and a 1-D array `s` of singular values (real, non-negative) such that a == U.S.Vh, where `s` is a suitably shaped matrix of zeros with the main diagonal `s`."
   ]
  },
  {
   "cell_type": "code",
   "execution_count": 32,
   "metadata": {},
   "outputs": [
    {
     "data": {
      "text/plain": [
       "array([[-0.5204756 -0.06655711j,  0.03938396+0.07767396j],\n",
       "       [-1.30265696-1.17959778j,  0.31304789+0.93436862j],\n",
       "       [ 0.2848156 -0.92539917j,  0.62377379+0.68355099j]])"
      ]
     },
     "execution_count": 32,
     "metadata": {},
     "output_type": "execute_result"
    }
   ],
   "source": [
    "a = np.random.randn(3, 2) + 1.j*np.random.randn(3, 2)\n",
    "a"
   ]
  },
  {
   "cell_type": "code",
   "execution_count": 33,
   "metadata": {},
   "outputs": [
    {
     "name": "stdout",
     "output_type": "stream",
     "text": [
      "[[-0.20457554-0.04074688j  0.25291111-0.03922766j  0.14036881+0.93342504j]\n",
      " [-0.56565927-0.63436349j  0.36978319-0.26444801j  0.01826785-0.26571879j]\n",
      " [-0.03154028-0.48281083j -0.84244182-0.13459785j  0.06046464+0.18552126j]] \n",
      "\n",
      " [[ 0.87349923+0.j         -0.48603228-0.02777975j]\n",
      " [-0.48682552+0.j         -0.87207593-0.04984454j]] \n",
      "\n",
      " [2.32644956 0.85074705]\n"
     ]
    }
   ],
   "source": [
    "U, s, Vh = linalg.svd(a)\n",
    "print(U, '\\n\\n', Vh, '\\n\\n', s)"
   ]
  },
  {
   "cell_type": "code",
   "execution_count": null,
   "metadata": {},
   "outputs": [],
   "source": []
  }
 ],
 "metadata": {
  "kernelspec": {
   "display_name": "Python 3 (ipykernel)",
   "language": "python",
   "name": "python3"
  },
  "language_info": {
   "codemirror_mode": {
    "name": "ipython",
    "version": 3
   },
   "file_extension": ".py",
   "mimetype": "text/x-python",
   "name": "python",
   "nbconvert_exporter": "python",
   "pygments_lexer": "ipython3",
   "version": "3.9.7"
  }
 },
 "nbformat": 4,
 "nbformat_minor": 4
}
