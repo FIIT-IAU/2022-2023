{
 "cells": [
  {
   "cell_type": "code",
   "execution_count": null,
   "metadata": {},
   "outputs": [],
   "source": [
    "# -*- coding: utf-8 -*-\n",
    "#\n",
    "# Licensed under the Apache License, Version 2.0 (the \"License\");\n",
    "# you may not use this file except in compliance with the License.\n",
    "# You may obtain a copy of the License at\n",
    "#\n",
    "#    http://www.apache.org/licenses/LICENSE-2.0\n",
    "#\n",
    "# Unless required by applicable law or agreed to in writing, software\n",
    "# distributed under the License is distributed on an \"AS IS\" BASIS,\n",
    "# WITHOUT WARRANTIES OR CONDITIONS OF ANY KIND, either express or\n",
    "# implied.\n",
    "# See the License for the specific language governing permissions and\n",
    "# limitations under the License.\n",
    "#"
   ]
  },
  {
   "cell_type": "markdown",
   "metadata": {},
   "source": [
    "# Spracovanie textu v Pythone (--- nepovinné DÚ ---)\n",
    "- [NLTK](http://www.nltk.org/book/)\n",
    "- gensim\n",
    "- word2vec\n",
    "- scikit-learn"
   ]
  },
  {
   "cell_type": "code",
   "execution_count": null,
   "metadata": {},
   "outputs": [],
   "source": [
    "import nltk\n",
    "from nltk.corpus import inaugural"
   ]
  },
  {
   "cell_type": "markdown",
   "metadata": {},
   "source": [
    "## Úlohy\n",
    "\n",
    "1. Vypíšte 10 najčastejších slov z inaugaračných prejavov amerických prezidentov (pre každý prejav zvlášť).\n",
    "2. Pozrite sa na slová s najväčšou váhou podľa TF-IDF; vypíšte pre každý prejav 10 slov s najväčšou váhou. Zmenil sa nejak výsledok oproti prvej úlohe?\n",
    "3. Ktoré dva prejavy sa navzájom najviac podobajú?\n",
    "4. Ako sa menila frekvencia slov `america` a `citizen` v priebehu rokov v týchto prejavoch? (Hint: Ak si neviete rady, pozrite sem: https://www.nltk.org/book/ch02.html. Analogicky môžete zobraziť v grafe priebeh iných slov, ktoré vás zaujímajú.)\n",
    "5. Na zautomatizovanie a sprehľadnenie predspracovania (ale aj ďalších krokov analýzy dát) sa v Pythone používajú tzv. [pipelines](http://scikit-learn.org/stable/modules/generated/sklearn.pipeline.Pipeline.html). Pozrite si, ako pipeliny fungujú: http://zacstewart.com/2014/08/05/pipelines-of-featureunions-of-pipelines.html. Na základe toho prerobte predspracovanie textov (inauguračných prejavov) pomocou pipeliny; budete mať samostatný transformer na tokenizáciu slov (funkcia `preprocess_text` tu v notebooku), odstránenie málopočetných tokenov, prevod textu na vektory a váhovanie pomocou TF-IDF. "
   ]
  },
  {
   "cell_type": "markdown",
   "metadata": {},
   "source": [
    "### Úloha 1"
   ]
  },
  {
   "cell_type": "code",
   "execution_count": null,
   "metadata": {},
   "outputs": [],
   "source": []
  },
  {
   "cell_type": "markdown",
   "metadata": {},
   "source": [
    "### Úloha 2"
   ]
  },
  {
   "cell_type": "code",
   "execution_count": null,
   "metadata": {},
   "outputs": [],
   "source": []
  },
  {
   "cell_type": "markdown",
   "metadata": {},
   "source": [
    "### Úloha 3"
   ]
  },
  {
   "cell_type": "code",
   "execution_count": null,
   "metadata": {},
   "outputs": [],
   "source": []
  },
  {
   "cell_type": "markdown",
   "metadata": {},
   "source": [
    "### Úloha 4"
   ]
  },
  {
   "cell_type": "code",
   "execution_count": null,
   "metadata": {},
   "outputs": [],
   "source": []
  },
  {
   "cell_type": "markdown",
   "metadata": {},
   "source": [
    "### Úloha 5"
   ]
  },
  {
   "cell_type": "code",
   "execution_count": null,
   "metadata": {},
   "outputs": [],
   "source": []
  }
 ],
 "metadata": {
  "kernelspec": {
   "display_name": "Python 3 (ipykernel)",
   "language": "python",
   "name": "python3"
  },
  "language_info": {
   "codemirror_mode": {
    "name": "ipython",
    "version": 3
   },
   "file_extension": ".py",
   "mimetype": "text/x-python",
   "name": "python",
   "nbconvert_exporter": "python",
   "pygments_lexer": "ipython3",
   "version": "3.9.9"
  }
 },
 "nbformat": 4,
 "nbformat_minor": 2
}
